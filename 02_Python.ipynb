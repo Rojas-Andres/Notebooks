{
 "cells": [
  {
   "cell_type": "markdown",
   "metadata": {},
   "source": [
    "# Ejemplos del uso de Markdown\n",
    "\n",
    "Diego Fernando Marin"
   ]
  },
  {
   "cell_type": "markdown",
   "metadata": {},
   "source": [
    "# Título de 1er nivel\n",
    "\n",
    "Los títulos de primer nivel se indican con un signo `#` al inicio del texto.\n"
   ]
  },
  {
   "cell_type": "markdown",
   "metadata": {},
   "source": [
    "Los subtítulos van hasta el 6to nivel, incrementando la cantidad de signos `#` al inicio: \n",
    "\n",
    "## Subtítulo de 2do nivel\n",
    "### Subtítulo de 3er nivel\n",
    "#### Subtítulo de 4to nivel\n",
    "##### Subtítulo de 5to nivel\n",
    "###### Subtítulo de 6to nivel"
   ]
  },
  {
   "cell_type": "markdown",
   "metadata": {},
   "source": [
    "# Blockquote\n",
    "\n",
    "Todo texto que comience con `>` será identado, puede incluir títulos y otros bloques:\n",
    "\n",
    "> # Título de un Blockquote\n",
    "> Párrafo de texto dentro de un blockquote.\n",
    ">\n",
    ">> incluso hay sub-bloques\n",
    ">>\n",
    ">> que también van identados\n",
    ">\n",
    "> ## Subtítulo de un Blockquote\n",
    "> Párrafo de texto dentro de un blockquote."
   ]
  },
  {
   "cell_type": "markdown",
   "metadata": {},
   "source": [
    "# Énfasis\n",
    "\n",
    "Las palabras que inician y terminan con `*` o `_`, se muestran en *itálica* o _cursiva_ .\n",
    "\n",
    "Las palabras que inician y terminan con `**` o `__`, se muestran en **negrilla** o __énfasis__.\n",
    "\n",
    "Las palabras que inician y terminan con `~~`, se muestran en ~~tachado~~."
   ]
  },
  {
   "cell_type": "markdown",
   "metadata": {},
   "source": [
    "# Listas Ordenadas\n",
    "\n",
    "Las listas ordenadas se hacen numerando `1.`, `2.` los items. Los espacios (tres) y la numeración, marcan las sub-listas.\n",
    "\n",
    "1. Additive\n",
    "   1. Red\n",
    "   2. Green\n",
    "   3. Blue\n",
    "2. Substrative\n",
    "   1. Cyan\n",
    "   2. Magenta\n",
    "   3. Yellow\n",
    "   4. Black"
   ]
  },
  {
   "cell_type": "markdown",
   "metadata": {},
   "source": [
    "# Listas No Ordenadas\n",
    "\n",
    "Las listas no ordenadas se hacen con `*`, `+` o `-`, la cantidad de espacios (dos) indica la tabulación:\n",
    "\n",
    "* Animales\n",
    "  - Jirafas\n",
    "  - Elefantes \n",
    "  - Leones \n",
    "  - Tigres \n",
    "  - Avestruces\n",
    "- Frutas\n",
    "  + Citricos\n",
    "    * Naranjas\n",
    "    * Toronjas\n",
    "    * Limones\n",
    "  + Manzanas\n",
    "  + Peras\n",
    "  * Duraznos"
   ]
  },
  {
   "cell_type": "markdown",
   "metadata": {},
   "source": [
    "# Enlaces\n",
    "\n",
    "Los enlaces se indican con `[nombre](url)\"tooltip\"`: \n",
    "\n",
    "* [Markdown en Wikipedia](https://es.wikipedia.org/wiki/Markdown)\n",
    "* [Guía de Markdown](https://markdown.es/ \"Guía de Markdown en Español\")"
   ]
  },
  {
   "cell_type": "markdown",
   "metadata": {},
   "source": [
    "# Imágenes\n",
    "\n",
    "Las imágenes se insertan con `![nombre](url o ruta)`:\n",
    "\n",
    "![jupyter](https://res-2.cloudinary.com/crunchbase-production/image/upload/c_lpad,h_256,w_256,f_auto,q_auto:eco/v1463481639/zkwcls2ljise1px6w3l6.png)\n"
   ]
  },
  {
   "cell_type": "markdown",
   "metadata": {},
   "source": [
    "# Código\n",
    "\n",
    "Se pueden resaltar instrucciones o código en el texto, usando `` ` `` , como `print()`.\n",
    "\n",
    "Al iniciar con 4 espacios (o un tabulado) se crear un bloque de código (sin resaltado):\n",
    "\n",
    "    for item in list:\n",
    "        print(item)\n",
    "\n",
    "En este bloque de código, las marquillas HTML no tienen efecto:\n",
    "\n",
    "    <blockquote>\n",
    "        <p>For example.</p>\n",
    "    </blockquote>\n",
    "    \n",
    "\n",
    "Usando `` ``` `` también se crear un bloque de código, indicando que lenguaje:\n",
    "\n",
    "```python\n",
    "for item in list:\n",
    "    print(item)\n",
    "```"
   ]
  },
  {
   "cell_type": "markdown",
   "metadata": {},
   "source": [
    "Con 3 carácteres (como `*`, `_`, `-`) al inicio de la línea, se crea un separador:\n",
    "\n",
    "***\n",
    "\n",
    "Sed ut perspiciatis unde omnis iste natus error sit voluptatem accusantium doloremque laudantium, totam rem aperiam, eaque ipsa quae ab illo inventore veritatis et quasi architecto beatae vitae dicta sunt explicabo. Nemo enim ipsam voluptatem quia voluptas sit aspernatur aut odit aut fugit, sed quia consequuntur magni dolores eos qui ratione voluptatem sequi nesciunt.\n",
    "\n",
    "---\n"
   ]
  },
  {
   "cell_type": "markdown",
   "metadata": {},
   "source": [
    "# Tablas\n",
    "\n",
    "|Nombre|Dirección|Ciudad|Departamento|\n",
    "|----|-------|----|------|\n",
    "|Juan Perez|Calle 10 #4-47|Bogotá|Bogotá D.C.|\n",
    "|María Lopez|Cra 99 #13-23|Cartagena|Bolivar|\n",
    "|Pedro Alvarez|Avendia 6a #5-101|Cali|Valle|\n",
    "|José |Calle 13 #127-33|Medellín|Antioquia|"
   ]
  },
  {
   "cell_type": "markdown",
   "metadata": {},
   "source": [
    "# MathJax\n",
    "\n",
    "Es posible usar [MathJax](https://www.mathjax.org) incluir formulas matemáticas en el texto con `$` como $e^{i\\pi} + 1 = 0$\n",
    "\n",
    "También es posible incluir la formula matemática fuera del texto, usando `$$`:\n",
    "\n",
    "$$e^x=\\sum_{i=0}^\\infty \\frac{1}{i!}x^i$$\n",
    "\n",
    "$$x = {-b \\pm \\sqrt{b^2-4ac} \\over 2a}$$\n",
    "\n",
    "$$f(a) = \\frac{1}{2\\pi i} \\oint\\frac{f(z)}{z-a}dz$$\n",
    "\n",
    "$$\\sigma = \\sqrt{ \\frac{1}{N} \\sum_{i=1}^N (x_i -\\mu)^2}$$"
   ]
  },
  {
   "cell_type": "markdown",
   "metadata": {},
   "source": [
    "# Listas de Tareas\n",
    "\n",
    "Las listas de tareas son listas donde se puede marcar que se ha hecho y que está pendiente:\n",
    "\n",
    "- [x] Configurar una máquina **AWS EC2** \n",
    "- [x] Instalar los paquetes necesarios para [Jupyter](https://jupyter.org/)\n",
    "- [ ] Iniciar el servicio de _Notebooks_\n",
    "- [ ] Resolver los ejercicios"
   ]
  },
  {
   "cell_type": "markdown",
   "metadata": {},
   "source": [
    "# Ejecutando comandos desde un Notebook\n",
    "\n",
    "Para ejecutar un comando en una celda `code` solo es necesario anteponer un signo de porcentaje `%` al comando, el cual será ejecutado en el mismo proceso del notebook:\n",
    "```bash\n",
    "%ls -l\n",
    "```\n",
    "También es posible utilizar el signo de admiración `!`, pero ahora el comando será ejecutado en un nuevo proceso.\n",
    "```bash\n",
    "!ls -l\n",
    "```\n",
    "Nota: este mecanismo no funciona, al exportar y ejecutar como un script de Python. En este caso debe utilizar `os.system()`, `subprocess.run()`, o `subprocess.Popen()`. "
   ]
  },
  {
   "cell_type": "code",
   "execution_count": 1,
   "metadata": {},
   "outputs": [
    {
     "name": "stdout",
     "output_type": "stream",
     "text": [
      "/Users/macbook/Projects/Notebooks/UL_Analytics\n",
      "total 7616\n",
      "-rw-r--r--  1 macbook  staff    18456 Jun 16 20:59 01 Markdown.ipynb\n",
      "-rw-r--r--  1 macbook  staff    20312 Mar 27 11:50 02 Python Básico.ipynb\n",
      "-rw-r--r--  1 macbook  staff    11463 Mar 13 16:49 03 Numpy básico.ipynb\n",
      "-rw-rw-r--@ 1 macbook  staff   323520 Apr  2 12:14 04 Gráficos.ipynb\n",
      "-rw-r--r--  1 macbook  staff  1624478 Apr  2 12:14 05 Mapas.ipynb\n",
      "-rw-r--r--  1 macbook  staff     5571 Apr 17 17:30 Análisis Acciones.ipynb\n",
      "-rw-r--r--  1 macbook  staff    86039 Mar 27 16:47 Análisis COVID-19 Colombia.ipynb\n",
      "-rw-r--r--  1 macbook  staff   324301 Apr 24 16:20 Análisis COVID-19 INS.ipynb\n",
      "-rw-r--r--@ 1 macbook  staff   182625 Mar 27 19:49 Ejercicio_Clase_Covid.ipynb\n",
      "-rw-r--r--  1 macbook  staff   407072 May  2 20:57 Parcial2-Solución.ipynb\n",
      "-rw-r--r--  1 macbook  staff   405766 May  2 21:04 Parcial2.ipynb\n",
      "-rw-r--r--  1 macbook  staff   440234 May 31 22:42 Parcial3-Titanic-Solución.ipynb\n",
      "-rw-r--r--  1 macbook  staff    20151 May 23 22:06 Parcial3a-Titanic.ipynb\n",
      "-rw-r--r--  1 macbook  staff      125 Mar 25 19:21 hola.py\n"
     ]
    }
   ],
   "source": [
    "!cd /tmp\n",
    "!pwd\n",
    "!ls -l"
   ]
  },
  {
   "cell_type": "code",
   "execution_count": 2,
   "metadata": {},
   "outputs": [
    {
     "name": "stdout",
     "output_type": "stream",
     "text": [
      "/private/tmp\n",
      "total 0\r\n",
      "srwxr-xr-x  1 macbook  wheel   0 Jun 16 18:33 \u001b[32mSublime Text.4cff18d2bab96a93366319a9e0fa060d.864faee128623e2ffa244f90d6fd5dc3.sock\u001b[m\u001b[m=\r\n",
      "drwx------  3 macbook  wheel  96 Jun 11 16:21 \u001b[1m\u001b[36mcom.apple.launchd.GWrK3rcOUM\u001b[m\u001b[m/\r\n",
      "drwx------  3 macbook  wheel  96 Jun 11 16:21 \u001b[1m\u001b[36mcom.apple.launchd.OlboFXwAnf\u001b[m\u001b[m/\r\n",
      "drwxr-xr-x@ 3 macbook  wheel  96 Jun 16 07:56 \u001b[1m\u001b[36mcom.google.Keystone\u001b[m\u001b[m/\r\n"
     ]
    }
   ],
   "source": [
    "%cd /tmp\n",
    "%pwd\n",
    "%ls -l"
   ]
  },
  {
   "cell_type": "markdown",
   "metadata": {},
   "source": [
    "# Comandos _Magic_\n",
    "\n",
    "Los comandos _Magic_ son comandos especiales que sirven para gestionar mejor la ejecución y el análisis tus datos en un _notebook_. Se utiliza en una celda de código, iniciando con ```%``` si se trata de una sola línea, o con ```%%``` si son comandos multilínea."
   ]
  },
  {
   "cell_type": "code",
   "execution_count": 3,
   "metadata": {},
   "outputs": [
    {
     "data": {
      "application/json": {
       "cell": {
        "!": "OSMagics",
        "HTML": "Other",
        "SVG": "Other",
        "bash": "Other",
        "capture": "ExecutionMagics",
        "debug": "ExecutionMagics",
        "file": "Other",
        "html": "DisplayMagics",
        "javascript": "DisplayMagics",
        "js": "DisplayMagics",
        "latex": "DisplayMagics",
        "markdown": "DisplayMagics",
        "perl": "Other",
        "prun": "ExecutionMagics",
        "pypy": "Other",
        "python": "Other",
        "python2": "Other",
        "python3": "Other",
        "ruby": "Other",
        "script": "ScriptMagics",
        "sh": "Other",
        "svg": "DisplayMagics",
        "sx": "OSMagics",
        "system": "OSMagics",
        "time": "ExecutionMagics",
        "timeit": "ExecutionMagics",
        "writefile": "OSMagics"
       },
       "line": {
        "alias": "OSMagics",
        "alias_magic": "BasicMagics",
        "autoawait": "AsyncMagics",
        "autocall": "AutoMagics",
        "automagic": "AutoMagics",
        "autosave": "KernelMagics",
        "bookmark": "OSMagics",
        "cat": "Other",
        "cd": "OSMagics",
        "clear": "KernelMagics",
        "colors": "BasicMagics",
        "conda": "PackagingMagics",
        "config": "ConfigMagics",
        "connect_info": "KernelMagics",
        "cp": "Other",
        "debug": "ExecutionMagics",
        "dhist": "OSMagics",
        "dirs": "OSMagics",
        "doctest_mode": "BasicMagics",
        "ed": "Other",
        "edit": "KernelMagics",
        "env": "OSMagics",
        "gui": "BasicMagics",
        "hist": "Other",
        "history": "HistoryMagics",
        "killbgscripts": "ScriptMagics",
        "ldir": "Other",
        "less": "KernelMagics",
        "lf": "Other",
        "lk": "Other",
        "ll": "Other",
        "load": "CodeMagics",
        "load_ext": "ExtensionMagics",
        "loadpy": "CodeMagics",
        "logoff": "LoggingMagics",
        "logon": "LoggingMagics",
        "logstart": "LoggingMagics",
        "logstate": "LoggingMagics",
        "logstop": "LoggingMagics",
        "ls": "Other",
        "lsmagic": "BasicMagics",
        "lx": "Other",
        "macro": "ExecutionMagics",
        "magic": "BasicMagics",
        "man": "KernelMagics",
        "matplotlib": "PylabMagics",
        "mkdir": "Other",
        "more": "KernelMagics",
        "mv": "Other",
        "notebook": "BasicMagics",
        "page": "BasicMagics",
        "pastebin": "CodeMagics",
        "pdb": "ExecutionMagics",
        "pdef": "NamespaceMagics",
        "pdoc": "NamespaceMagics",
        "pfile": "NamespaceMagics",
        "pinfo": "NamespaceMagics",
        "pinfo2": "NamespaceMagics",
        "pip": "PackagingMagics",
        "popd": "OSMagics",
        "pprint": "BasicMagics",
        "precision": "BasicMagics",
        "prun": "ExecutionMagics",
        "psearch": "NamespaceMagics",
        "psource": "NamespaceMagics",
        "pushd": "OSMagics",
        "pwd": "OSMagics",
        "pycat": "OSMagics",
        "pylab": "PylabMagics",
        "qtconsole": "KernelMagics",
        "quickref": "BasicMagics",
        "recall": "HistoryMagics",
        "rehashx": "OSMagics",
        "reload_ext": "ExtensionMagics",
        "rep": "Other",
        "rerun": "HistoryMagics",
        "reset": "NamespaceMagics",
        "reset_selective": "NamespaceMagics",
        "rm": "Other",
        "rmdir": "Other",
        "run": "ExecutionMagics",
        "save": "CodeMagics",
        "sc": "OSMagics",
        "set_env": "OSMagics",
        "store": "StoreMagics",
        "sx": "OSMagics",
        "system": "OSMagics",
        "tb": "ExecutionMagics",
        "time": "ExecutionMagics",
        "timeit": "ExecutionMagics",
        "unalias": "OSMagics",
        "unload_ext": "ExtensionMagics",
        "who": "NamespaceMagics",
        "who_ls": "NamespaceMagics",
        "whos": "NamespaceMagics",
        "xdel": "NamespaceMagics",
        "xmode": "BasicMagics"
       }
      },
      "text/plain": [
       "Available line magics:\n",
       "%alias  %alias_magic  %autoawait  %autocall  %automagic  %autosave  %bookmark  %cat  %cd  %clear  %colors  %conda  %config  %connect_info  %cp  %debug  %dhist  %dirs  %doctest_mode  %ed  %edit  %env  %gui  %hist  %history  %killbgscripts  %ldir  %less  %lf  %lk  %ll  %load  %load_ext  %loadpy  %logoff  %logon  %logstart  %logstate  %logstop  %ls  %lsmagic  %lx  %macro  %magic  %man  %matplotlib  %mkdir  %more  %mv  %notebook  %page  %pastebin  %pdb  %pdef  %pdoc  %pfile  %pinfo  %pinfo2  %pip  %popd  %pprint  %precision  %prun  %psearch  %psource  %pushd  %pwd  %pycat  %pylab  %qtconsole  %quickref  %recall  %rehashx  %reload_ext  %rep  %rerun  %reset  %reset_selective  %rm  %rmdir  %run  %save  %sc  %set_env  %store  %sx  %system  %tb  %time  %timeit  %unalias  %unload_ext  %who  %who_ls  %whos  %xdel  %xmode\n",
       "\n",
       "Available cell magics:\n",
       "%%!  %%HTML  %%SVG  %%bash  %%capture  %%debug  %%file  %%html  %%javascript  %%js  %%latex  %%markdown  %%perl  %%prun  %%pypy  %%python  %%python2  %%python3  %%ruby  %%script  %%sh  %%svg  %%sx  %%system  %%time  %%timeit  %%writefile\n",
       "\n",
       "Automagic is ON, % prefix IS NOT needed for line magics."
      ]
     },
     "execution_count": 3,
     "metadata": {},
     "output_type": "execute_result"
    }
   ],
   "source": [
    "# lo primero es ver todos los comandos magic disponibles:\n",
    "%lsmagic"
   ]
  },
  {
   "cell_type": "code",
   "execution_count": 4,
   "metadata": {},
   "outputs": [
    {
     "data": {
      "text/plain": [
       "'/private/tmp'"
      ]
     },
     "execution_count": 4,
     "metadata": {},
     "output_type": "execute_result"
    }
   ],
   "source": [
    "# Mostrar el directorio actual\n",
    "%pwd"
   ]
  },
  {
   "cell_type": "code",
   "execution_count": 5,
   "metadata": {},
   "outputs": [
    {
     "name": "stdout",
     "output_type": "stream",
     "text": [
      "[Errno 2] No such file or directory: '/Users/macbook/Projects/Notebooks/UL Analytics/'\n",
      "/private/tmp\n"
     ]
    }
   ],
   "source": [
    "# Cambiar de directorio \n",
    "%cd ~/Projects/Notebooks/UL\\ Analytics/"
   ]
  },
  {
   "cell_type": "code",
   "execution_count": 6,
   "metadata": {},
   "outputs": [],
   "source": [
    "# Ejecutar scripts de Python en una celda\n",
    "#%run hola.py"
   ]
  },
  {
   "cell_type": "code",
   "execution_count": 7,
   "metadata": {},
   "outputs": [
    {
     "name": "stdout",
     "output_type": "stream",
     "text": [
      "total 0\r\n",
      "srwxr-xr-x  1 macbook  wheel   0 Jun 16 18:33 \u001b[32mSublime Text.4cff18d2bab96a93366319a9e0fa060d.864faee128623e2ffa244f90d6fd5dc3.sock\u001b[m\u001b[m=\r\n",
      "drwx------  3 macbook  wheel  96 Jun 11 16:21 \u001b[1m\u001b[36mcom.apple.launchd.GWrK3rcOUM\u001b[m\u001b[m/\r\n",
      "drwx------  3 macbook  wheel  96 Jun 11 16:21 \u001b[1m\u001b[36mcom.apple.launchd.OlboFXwAnf\u001b[m\u001b[m/\r\n",
      "drwxr-xr-x@ 3 macbook  wheel  96 Jun 16 07:56 \u001b[1m\u001b[36mcom.google.Keystone\u001b[m\u001b[m/\r\n"
     ]
    }
   ],
   "source": [
    "# Listar el directorio actual: ls, ll, lf\n",
    "%ll"
   ]
  },
  {
   "cell_type": "code",
   "execution_count": 8,
   "metadata": {},
   "outputs": [
    {
     "name": "stdout",
     "output_type": "stream",
     "text": [
      "CPU times: user 16.1 ms, sys: 968 µs, total: 17.1 ms\n",
      "Wall time: 17.4 ms\n"
     ]
    }
   ],
   "source": [
    "%%time\n",
    "# Registrar el tiempo total de ejecución de una celda (este comentario no puede ir en la primera linea)\n",
    "import random\n",
    "for i in range(0, 100000):\n",
    "    random.random()"
   ]
  },
  {
   "cell_type": "code",
   "execution_count": 9,
   "metadata": {},
   "outputs": [
    {
     "name": "stdout",
     "output_type": "stream",
     "text": [
      "i\t random\t \n"
     ]
    }
   ],
   "source": [
    "# Listar todas las variables definidas hasta el momento: who, whos, who_ls\n",
    "%who"
   ]
  },
  {
   "cell_type": "code",
   "execution_count": 10,
   "metadata": {},
   "outputs": [],
   "source": [
    "# Listar todas las variables definidas hasta el momento: who, whos, who_ls\n",
    "%pinfo i"
   ]
  },
  {
   "cell_type": "code",
   "execution_count": 11,
   "metadata": {},
   "outputs": [
    {
     "data": {
      "text/plain": [
       "{'TERM_PROGRAM_VERSION': '433',\n",
       " 'TMPDIR': '/var/folders/5g/f3dqm30x15724mrw6w46vy7w0000gn/T/',\n",
       " 'XPC_FLAGS': '0x0',\n",
       " 'TERM_PROGRAM': 'Apple_Terminal',\n",
       " 'XPC_SERVICE_NAME': '0',\n",
       " 'DISPLAY': '/private/tmp/com.apple.launchd.GWrK3rcOUM/org.xquartz:0',\n",
       " 'TERM_SESSION_ID': '8485357C-FE3C-4084-BAD7-D367145FBA6B',\n",
       " 'SSH_AUTH_SOCK': '/private/tmp/com.apple.launchd.OlboFXwAnf/Listeners',\n",
       " 'TERM': 'xterm-color',\n",
       " 'SHELL': '/bin/zsh',\n",
       " 'HOME': '/Users/macbook',\n",
       " 'LOGNAME': 'macbook',\n",
       " 'USER': 'macbook',\n",
       " 'PATH': '/Users/macbook/opt/anaconda3/bin:/Users/macbook/opt/anaconda3/condabin:/usr/local/bin:/usr/bin:/bin:/usr/sbin:/sbin:/opt/X11/bin:/Library/Frameworks/Mono.framework/Versions/Current/Commands:/Users/macbook/.cargo/bin',\n",
       " 'SHLVL': '1',\n",
       " 'PWD': '/Users/macbook/Projects/Notebooks',\n",
       " 'OLDPWD': '/Users/macbook',\n",
       " 'P9K_TTY': 'old',\n",
       " '_P9K_TTY': '/dev/ttys000',\n",
       " 'ZSH': '/Users/macbook/.oh-my-zsh',\n",
       " 'PAGER': 'cat',\n",
       " 'LESS': '-R',\n",
       " 'LSCOLORS': 'Gxfxcxdxbxegedabagacad',\n",
       " 'P9K_SSH': '0',\n",
       " 'CONDA_EXE': '/Users/macbook/opt/anaconda3/bin/conda',\n",
       " '_CE_M': '',\n",
       " '_CE_CONDA': '',\n",
       " 'CONDA_PYTHON_EXE': '/Users/macbook/opt/anaconda3/bin/python',\n",
       " 'CONDA_SHLVL': '1',\n",
       " 'CONDA_PREFIX': '/Users/macbook/opt/anaconda3',\n",
       " 'CONDA_DEFAULT_ENV': 'base',\n",
       " 'CONDA_PROMPT_MODIFIER': '(base) ',\n",
       " 'PROJ_LIB': '/Users/macbook/opt/anaconda3/share/proj',\n",
       " 'LC_CTYPE': 'UTF-8',\n",
       " '_': '/Users/macbook/opt/anaconda3/bin/jupyter',\n",
       " 'JPY_PARENT_PID': '4277',\n",
       " 'CLICOLOR': '1',\n",
       " 'GIT_PAGER': 'cat',\n",
       " 'MPLBACKEND': 'module://ipykernel.pylab.backend_inline'}"
      ]
     },
     "execution_count": 11,
     "metadata": {},
     "output_type": "execute_result"
    }
   ],
   "source": [
    "# Listar todas las variables de entorno\n",
    "%env"
   ]
  },
  {
   "cell_type": "code",
   "execution_count": 12,
   "metadata": {},
   "outputs": [
    {
     "name": "stdout",
     "output_type": "stream",
     "text": [
      "env: USERNAME=dfmarin\n"
     ]
    }
   ],
   "source": [
    "# Crear una nueva variable de entorno\n",
    "%env USERNAME=dfmarin"
   ]
  },
  {
   "cell_type": "code",
   "execution_count": null,
   "metadata": {},
   "outputs": [],
   "source": []
  }
 ],
 "metadata": {
  "kernelspec": {
   "display_name": "Python 3",
   "language": "python",
   "name": "python3"
  },
  "language_info": {
   "codemirror_mode": {
    "name": "ipython",
    "version": 3
   },
   "file_extension": ".py",
   "mimetype": "text/x-python",
   "name": "python",
   "nbconvert_exporter": "python",
   "pygments_lexer": "ipython3",
   "version": "3.8.5"
  }
 },
 "nbformat": 4,
 "nbformat_minor": 2
}
