{
 "cells": [
  {
   "cell_type": "markdown",
   "id": "073e8a30",
   "metadata": {},
   "source": [
    "# Uso de Markdown"
   ]
  },
  {
   "cell_type": "markdown",
   "id": "fd07626e",
   "metadata": {},
   "source": [
    "# Títulos\n",
    "\n",
    "Todos los títulos empiezan con signo ```#```\n",
    "\n",
    "# Título 1\n",
    "## Título 2\n",
    "### Título 3\n",
    "#### Título 4\n",
    "##### Título 5\n",
    "###### Título 6\n"
   ]
  },
  {
   "cell_type": "markdown",
   "id": "93b01f1e",
   "metadata": {},
   "source": [
    "# Blockquote\n",
    "\n",
    "Los _blockquotes_ se hacen con el signo ```>```\n",
    "\n",
    "> # título del blockquote\n",
    "> Este es el párrafo del blockquote\n",
    ">\n",
    ">> Este es un blockquote anidado\n",
    ">> Tenemos más texto\n",
    ">\n",
    "> ## Segunda parte\n",
    "> Más texto"
   ]
  },
  {
   "cell_type": "markdown",
   "id": "aef9f016",
   "metadata": {},
   "source": [
    "# Énfasis\n",
    "\n",
    "Se pueden poner **negrillas** con doble carácter ```**``` o un ```__```\n",
    "\n",
    "Se pueden poner *italicas* con un solo carácter ```*``` o un ```_```\n",
    "\n",
    "Se hacer ~~tachado~~ utilizando doble virgulilla ```~~```\n"
   ]
  },
  {
   "cell_type": "markdown",
   "id": "5741fc80",
   "metadata": {},
   "source": [
    "# Listas\n",
    "\n",
    "## Ordenadas\n",
    "\n",
    "1. Colores\n",
    "  1. Rojo\n",
    "  2. Azul\n",
    "  3. Verde\n",
    "2. Sabores\n",
    "  1. Salado\n",
    "  2. Dulce\n",
    "\n",
    "## No ordenadas\n",
    "\n",
    "* Animales\n",
    "  - Perro\n",
    "  - Gato\n",
    "  - Caiman\n",
    "* Frutas\n",
    "  - Citricos\n",
    "    + Limon\n",
    "    + Naranja\n",
    "    + Toronja\n",
    "  - Manzana\n",
    "  - Pera\n",
    "  "
   ]
  },
  {
   "cell_type": "markdown",
   "id": "7d6784c8",
   "metadata": {},
   "source": [
    "# Enlaces\n",
    "\n",
    "Un enlace siempre tiene la forma ```[nombre](url)\"tooltip\"```\n",
    "\n",
    "### Libros\n",
    "* [Git Book](https://git-scm.com/book/en/v2)\n",
    "* [Colección de Libros de Python](https://wiki.python.org/moin/PythonBooks)\n"
   ]
  },
  {
   "cell_type": "code",
   "execution_count": 29,
   "id": "552f5442",
   "metadata": {},
   "outputs": [
    {
     "data": {
      "text/html": [
       "<iframe width=\"560\" height=\"315\" src=\"https://www.youtube.com/embed/8ASjvOIyyl8\" title=\"YouTube video player\" frameborder=\"0\" allow=\"accelerometer; autoplay; clipboard-write; encrypted-media; gyroscope; picture-in-picture\" allowfullscreen></iframe>\n"
      ],
      "text/plain": [
       "<IPython.core.display.HTML object>"
      ]
     },
     "metadata": {},
     "output_type": "display_data"
    }
   ],
   "source": [
    "%%HTML\n",
    "<iframe width=\"560\" height=\"315\" src=\"https://www.youtube.com/embed/8ASjvOIyyl8\" title=\"YouTube video player\" frameborder=\"0\" allow=\"accelerometer; autoplay; clipboard-write; encrypted-media; gyroscope; picture-in-picture\" allowfullscreen></iframe>"
   ]
  },
  {
   "cell_type": "markdown",
   "id": "ab7835a3",
   "metadata": {},
   "source": [
    "# Imágenes\n",
    "\n",
    "Las imágenes tienen la forma ```![nombre](url)```\n",
    "\n",
    "![Jupyter](https://cdn.icon-icons.com/icons2/2699/PNG/512/jupyter_logo_icon_169453.png)"
   ]
  },
  {
   "cell_type": "markdown",
   "id": "202920ba",
   "metadata": {},
   "source": [
    "# Código\n",
    "\n",
    "Utilizar 4 espacios:\n",
    "\n",
    "    frutas = ['pera', 'manzana', 'piña']\n",
    "    for fruta in frutas:\n",
    "        print(fruta)\n",
    "\n",
    "En un bloque de código (4 espacios), los TAGs HTML no tiene efecto:\n",
    "\n",
    "    <html>\n",
    "      <head>\n",
    "        <title>No pasa nada</title>\n",
    "      </head>\n",
    "      <body>\n",
    "      </body>\n",
    "    </html>\n",
    "\n",
    "También se crea un bloque de código con triple comilla invertida, y le indico el lenguage:\n",
    "\n",
    "```python\n",
    "frutas = ['pera', 'manzana', 'piña']\n",
    "for fruta in frutas:\n",
    "    print(fruta)\n",
    "```\n",
    "\n",
    "Otro ejemplo:\n",
    "\n",
    "```html\n",
    "<html>\n",
    "  <head>\n",
    "    <title>No pasa nada</title>\n",
    "  </head>\n",
    "  <body>\n",
    "  </body>\n",
    "</html>\n",
    "```\n"
   ]
  },
  {
   "cell_type": "markdown",
   "id": "e2e9dd7f",
   "metadata": {},
   "source": [
    "# Tablas\n",
    "\n",
    "|Cedula|Nombre|Ciudad|\n",
    "|------|------|------|\n",
    "|39494423|Juan|Cali|\n",
    "|1101894333|Angie|Cartago|\n",
    "|1014888234|Pedro|Bogota|"
   ]
  },
  {
   "cell_type": "markdown",
   "id": "084fe00b",
   "metadata": {},
   "source": [
    "# Comandos"
   ]
  },
  {
   "cell_type": "code",
   "execution_count": 30,
   "id": "e347618a",
   "metadata": {},
   "outputs": [
    {
     "name": "stdout",
     "output_type": "stream",
     "text": [
      "total 16\r\n",
      "-rw-rw-r-- 1 ubuntu ubuntu 5545 Jun 17 01:52 01_Markdown.ipynb\r\n",
      "-rw-rw-r-- 1 ubuntu ubuntu  168 Jun 17 00:11 README.md\r\n",
      "-rw-rw-r-- 1 ubuntu ubuntu   28 Jun 17 01:37 hola.py\r\n"
     ]
    }
   ],
   "source": [
    "!cd /tmp\n",
    "!ls -l"
   ]
  },
  {
   "cell_type": "code",
   "execution_count": 31,
   "id": "c703ce0b",
   "metadata": {},
   "outputs": [
    {
     "name": "stdout",
     "output_type": "stream",
     "text": [
      "total 16\r\n",
      "-rw-rw-r-- 1 ubuntu ubuntu 5545 Jun 17 01:52 01_Markdown.ipynb\r\n",
      "-rw-rw-r-- 1 ubuntu ubuntu  168 Jun 17 00:11 README.md\r\n",
      "-rw-rw-r-- 1 ubuntu ubuntu   28 Jun 17 01:37 hola.py\r\n"
     ]
    }
   ],
   "source": [
    "%ls -l"
   ]
  },
  {
   "cell_type": "code",
   "execution_count": 32,
   "id": "c10af853",
   "metadata": {},
   "outputs": [
    {
     "data": {
      "application/json": {
       "cell": {
        "!": "OSMagics",
        "HTML": "Other",
        "SVG": "Other",
        "bash": "Other",
        "capture": "ExecutionMagics",
        "debug": "ExecutionMagics",
        "file": "Other",
        "html": "DisplayMagics",
        "javascript": "DisplayMagics",
        "js": "DisplayMagics",
        "latex": "DisplayMagics",
        "markdown": "DisplayMagics",
        "perl": "Other",
        "prun": "ExecutionMagics",
        "pypy": "Other",
        "python": "Other",
        "python2": "Other",
        "python3": "Other",
        "ruby": "Other",
        "script": "ScriptMagics",
        "sh": "Other",
        "svg": "DisplayMagics",
        "sx": "OSMagics",
        "system": "OSMagics",
        "time": "ExecutionMagics",
        "timeit": "ExecutionMagics",
        "writefile": "OSMagics"
       },
       "line": {
        "alias": "OSMagics",
        "alias_magic": "BasicMagics",
        "autoawait": "AsyncMagics",
        "autocall": "AutoMagics",
        "automagic": "AutoMagics",
        "autosave": "KernelMagics",
        "bookmark": "OSMagics",
        "cat": "Other",
        "cd": "OSMagics",
        "clear": "KernelMagics",
        "colors": "BasicMagics",
        "conda": "PackagingMagics",
        "config": "ConfigMagics",
        "connect_info": "KernelMagics",
        "cp": "Other",
        "debug": "ExecutionMagics",
        "dhist": "OSMagics",
        "dirs": "OSMagics",
        "doctest_mode": "BasicMagics",
        "ed": "Other",
        "edit": "KernelMagics",
        "env": "OSMagics",
        "gui": "BasicMagics",
        "hist": "Other",
        "history": "HistoryMagics",
        "killbgscripts": "ScriptMagics",
        "ldir": "Other",
        "less": "KernelMagics",
        "lf": "Other",
        "lk": "Other",
        "ll": "Other",
        "load": "CodeMagics",
        "load_ext": "ExtensionMagics",
        "loadpy": "CodeMagics",
        "logoff": "LoggingMagics",
        "logon": "LoggingMagics",
        "logstart": "LoggingMagics",
        "logstate": "LoggingMagics",
        "logstop": "LoggingMagics",
        "ls": "Other",
        "lsmagic": "BasicMagics",
        "lx": "Other",
        "macro": "ExecutionMagics",
        "magic": "BasicMagics",
        "man": "KernelMagics",
        "matplotlib": "PylabMagics",
        "mkdir": "Other",
        "more": "KernelMagics",
        "mv": "Other",
        "notebook": "BasicMagics",
        "page": "BasicMagics",
        "pastebin": "CodeMagics",
        "pdb": "ExecutionMagics",
        "pdef": "NamespaceMagics",
        "pdoc": "NamespaceMagics",
        "pfile": "NamespaceMagics",
        "pinfo": "NamespaceMagics",
        "pinfo2": "NamespaceMagics",
        "pip": "PackagingMagics",
        "popd": "OSMagics",
        "pprint": "BasicMagics",
        "precision": "BasicMagics",
        "prun": "ExecutionMagics",
        "psearch": "NamespaceMagics",
        "psource": "NamespaceMagics",
        "pushd": "OSMagics",
        "pwd": "OSMagics",
        "pycat": "OSMagics",
        "pylab": "PylabMagics",
        "qtconsole": "KernelMagics",
        "quickref": "BasicMagics",
        "recall": "HistoryMagics",
        "rehashx": "OSMagics",
        "reload_ext": "ExtensionMagics",
        "rep": "Other",
        "rerun": "HistoryMagics",
        "reset": "NamespaceMagics",
        "reset_selective": "NamespaceMagics",
        "rm": "Other",
        "rmdir": "Other",
        "run": "ExecutionMagics",
        "save": "CodeMagics",
        "sc": "OSMagics",
        "set_env": "OSMagics",
        "store": "StoreMagics",
        "sx": "OSMagics",
        "system": "OSMagics",
        "tb": "ExecutionMagics",
        "time": "ExecutionMagics",
        "timeit": "ExecutionMagics",
        "unalias": "OSMagics",
        "unload_ext": "ExtensionMagics",
        "who": "NamespaceMagics",
        "who_ls": "NamespaceMagics",
        "whos": "NamespaceMagics",
        "xdel": "NamespaceMagics",
        "xmode": "BasicMagics"
       }
      },
      "text/plain": [
       "Available line magics:\n",
       "%alias  %alias_magic  %autoawait  %autocall  %automagic  %autosave  %bookmark  %cat  %cd  %clear  %colors  %conda  %config  %connect_info  %cp  %debug  %dhist  %dirs  %doctest_mode  %ed  %edit  %env  %gui  %hist  %history  %killbgscripts  %ldir  %less  %lf  %lk  %ll  %load  %load_ext  %loadpy  %logoff  %logon  %logstart  %logstate  %logstop  %ls  %lsmagic  %lx  %macro  %magic  %man  %matplotlib  %mkdir  %more  %mv  %notebook  %page  %pastebin  %pdb  %pdef  %pdoc  %pfile  %pinfo  %pinfo2  %pip  %popd  %pprint  %precision  %prun  %psearch  %psource  %pushd  %pwd  %pycat  %pylab  %qtconsole  %quickref  %recall  %rehashx  %reload_ext  %rep  %rerun  %reset  %reset_selective  %rm  %rmdir  %run  %save  %sc  %set_env  %store  %sx  %system  %tb  %time  %timeit  %unalias  %unload_ext  %who  %who_ls  %whos  %xdel  %xmode\n",
       "\n",
       "Available cell magics:\n",
       "%%!  %%HTML  %%SVG  %%bash  %%capture  %%debug  %%file  %%html  %%javascript  %%js  %%latex  %%markdown  %%perl  %%prun  %%pypy  %%python  %%python2  %%python3  %%ruby  %%script  %%sh  %%svg  %%sx  %%system  %%time  %%timeit  %%writefile\n",
       "\n",
       "Automagic is ON, % prefix IS NOT needed for line magics."
      ]
     },
     "execution_count": 32,
     "metadata": {},
     "output_type": "execute_result"
    }
   ],
   "source": [
    "%lsmagic"
   ]
  },
  {
   "cell_type": "code",
   "execution_count": 33,
   "id": "9961953d",
   "metadata": {},
   "outputs": [
    {
     "name": "stdout",
     "output_type": "stream",
     "text": [
      "Hola! desde Python\n"
     ]
    }
   ],
   "source": [
    "%run hola.py"
   ]
  },
  {
   "cell_type": "code",
   "execution_count": null,
   "id": "30ce237a",
   "metadata": {},
   "outputs": [],
   "source": []
  }
 ],
 "metadata": {
  "kernelspec": {
   "display_name": "Python 3",
   "language": "python",
   "name": "python3"
  },
  "language_info": {
   "codemirror_mode": {
    "name": "ipython",
    "version": 3
   },
   "file_extension": ".py",
   "mimetype": "text/x-python",
   "name": "python",
   "nbconvert_exporter": "python",
   "pygments_lexer": "ipython3",
   "version": "3.8.8"
  }
 },
 "nbformat": 4,
 "nbformat_minor": 5
}
