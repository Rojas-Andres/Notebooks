{
 "cells": [
  {
   "cell_type": "markdown",
   "id": "073e8a30",
   "metadata": {},
   "source": [
    "# Uso de Markdown"
   ]
  },
  {
   "cell_type": "markdown",
   "id": "03587911",
   "metadata": {},
   "source": [
    "# Títulos\n",
    "\n",
    "Todos los títulos empiezan con signo ```#```\n",
    "\n",
    "# Título 1\n",
    "## Título 2\n",
    "### Título 3\n",
    "#### Título 4\n",
    "##### Título 5\n",
    "###### Título 6\n"
   ]
  },
  {
   "cell_type": "markdown",
   "id": "262dff75",
   "metadata": {},
   "source": [
    "# Blockquote\n",
    "\n",
    "Los _blockquotes_ se hacen con el signo ```>```\n",
    "\n",
    "> # título del blockquote\n",
    "> Este es el párrafo del blockquote\n",
    ">\n",
    ">> Este es un blockquote anidado\n",
    ">> Tenemos más texto\n",
    ">\n",
    "> ## Segunda parte\n",
    "> Más texto"
   ]
  },
  {
   "cell_type": "markdown",
   "id": "0b3ec063",
   "metadata": {},
   "source": [
    "# Énfasis\n",
    "\n",
    "Se pueden poner **negrillas** con doble carácter ```**``` o un ```__```\n",
    "\n",
    "Se pueden poner *italicas* con un solo carácter ```*``` o un ```_```\n",
    "\n",
    "Se hacer ~~tachado~~ utilizando doble virgulilla ```~~```\n"
   ]
  },
  {
   "cell_type": "markdown",
   "id": "6ca1d2f6",
   "metadata": {},
   "source": [
    "# Listas\n",
    "\n",
    "## Ordenadas\n",
    "\n",
    "1. Colores\n",
    "  1. Rojo\n",
    "  2. Azul\n",
    "  3. Verde\n",
    "2. Sabores\n",
    "  1. Salado\n",
    "  2. Dulce\n",
    "\n",
    "## No ordenadas\n",
    "\n",
    "* Animales\n",
    "  - Perro\n",
    "  - Gato\n",
    "  - Caiman\n",
    "* Frutas\n",
    "  - Citricos\n",
    "    + Limon\n",
    "    + Naranja\n",
    "    + Toronja\n",
    "  - Manzana\n",
    "  - Pera\n",
    "  "
   ]
  },
  {
   "cell_type": "markdown",
   "id": "18acdc7d",
   "metadata": {},
   "source": [
    "# Enlaces\n",
    "\n",
    "Un enlace siempre tiene la forma ```[nombre](url)\"tooltip\"```\n",
    "\n",
    "### Libros\n",
    "* [Git Book](https://git-scm.com/book/en/v2)\n",
    "* [Colección de Libros de Python](https://wiki.python.org/moin/PythonBooks)"
   ]
  },
  {
   "cell_type": "markdown",
   "id": "00c68778",
   "metadata": {},
   "source": [
    "# Imágenes\n",
    "\n",
    "Las imágenes tienen la forma ```![nombre](url)```\n",
    "\n",
    "![Jupyter](https://cdn.icon-icons.com/icons2/2699/PNG/512/jupyter_logo_icon_169453.png)"
   ]
  },
  {
   "cell_type": "markdown",
   "id": "f108d284",
   "metadata": {},
   "source": [
    "# Código\n",
    "\n",
    "Utilizar 4 espacios:\n",
    "\n",
    "    frutas = ['pera', 'manzana', 'piña']\n",
    "    for fruta in frutas:\n",
    "        print(fruta)\n",
    "\n",
    "En un bloque de código (4 espacios), los TAGs HTML no tiene efecto:\n",
    "\n",
    "    <html>\n",
    "      <head>\n",
    "        <title>No pasa nada</title>\n",
    "      </head>\n",
    "      <body>\n",
    "      </body>\n",
    "    </html>\n",
    "\n",
    "También se crea un bloque de código con triple comilla invertida, y le indico el lenguage:\n",
    "\n",
    "```python\n",
    "frutas = ['pera', 'manzana', 'piña']\n",
    "for fruta in frutas:\n",
    "    print(fruta)\n",
    "```\n",
    "\n",
    "Otro ejemplo:\n",
    "\n",
    "```html\n",
    "<html>\n",
    "  <head>\n",
    "    <title>No pasa nada</title>\n",
    "  </head>\n",
    "  <body>\n",
    "  </body>\n",
    "</html>\n",
    "```\n"
   ]
  },
  {
   "cell_type": "code",
   "execution_count": null,
   "id": "6a36f1dd",
   "metadata": {},
   "outputs": [],
   "source": []
  }
 ],
 "metadata": {
  "kernelspec": {
   "display_name": "Python 3",
   "language": "python",
   "name": "python3"
  },
  "language_info": {
   "codemirror_mode": {
    "name": "ipython",
    "version": 3
   },
   "file_extension": ".py",
   "mimetype": "text/x-python",
   "name": "python",
   "nbconvert_exporter": "python",
   "pygments_lexer": "ipython3",
   "version": "3.8.8"
  }
 },
 "nbformat": 4,
 "nbformat_minor": 5
}
